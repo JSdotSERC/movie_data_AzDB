{
 "cells": [
  {
   "cell_type": "markdown",
   "metadata": {
    "application/vnd.databricks.v1+cell": {
     "cellMetadata": {},
     "inputWidgets": {},
     "nuid": "2032e69f-fafc-42c8-a590-c0f0d5040fdf",
     "showTitle": false,
     "tableResultSettingsMap": {},
     "title": ""
    }
   },
   "source": [
    "### This is my First Notebook"
   ]
  },
  {
   "cell_type": "code",
   "execution_count": 0,
   "metadata": {
    "application/vnd.databricks.v1+cell": {
     "cellMetadata": {
      "byteLimit": 2048000,
      "rowLimit": 10000
     },
     "inputWidgets": {},
     "nuid": "ab1d6f86-739a-43cf-8366-150926b9e3d0",
     "showTitle": false,
     "tableResultSettingsMap": {},
     "title": ""
    }
   },
   "outputs": [],
   "source": [
    "from pyspark.sql.functions import col\n",
    "from pyspark.sql.types import IntegerType, DoubleType, BooleanType, DateType\n",
    "from pyspark.sql.functions import col, date_format "
   ]
  },
  {
   "cell_type": "code",
   "execution_count": 0,
   "metadata": {
    "application/vnd.databricks.v1+cell": {
     "cellMetadata": {
      "byteLimit": 2048000,
      "rowLimit": 10000
     },
     "inputWidgets": {},
     "nuid": "44807349-7f24-4f84-9a8d-a1d000722a29",
     "showTitle": false,
     "tableResultSettingsMap": {},
     "title": ""
    }
   },
   "outputs": [],
   "source": [
    "dbutils.secrets.listScopes()"
   ]
  },
  {
   "cell_type": "code",
   "execution_count": 0,
   "metadata": {
    "application/vnd.databricks.v1+cell": {
     "cellMetadata": {
      "byteLimit": 2048000,
      "rowLimit": 10000
     },
     "inputWidgets": {},
     "nuid": "93c45230-79f0-4738-a5de-1c6f7d36be34",
     "showTitle": false,
     "tableResultSettingsMap": {},
     "title": ""
    }
   },
   "outputs": [],
   "source": [
    "dbutils.fs.mount(\n",
    "    source='wasbs://moviesdataproject@moviesdatajcs.blob.core.windows.net',\n",
    "    mount_point='/mnt/project-movies-data',\n",
    "    extra_configs = {'fs.azure.account.key.moviesdatajcs.blob.core.windows.net':\n",
    "                     dbutils.secrets.get('movieDataSecretScope', 'moviesStorageAccountKey')} \n",
    ")"
   ]
  },
  {
   "cell_type": "code",
   "execution_count": 0,
   "metadata": {
    "application/vnd.databricks.v1+cell": {
     "cellMetadata": {
      "byteLimit": 2048000,
      "rowLimit": 10000
     },
     "inputWidgets": {},
     "nuid": "bd65f5bc-e28a-4ccf-be5e-bf4e85913b42",
     "showTitle": false,
     "tableResultSettingsMap": {},
     "title": ""
    }
   },
   "outputs": [],
   "source": [
    "%fs\n",
    "ls \"/mnt/project-movies-data\""
   ]
  },
  {
   "cell_type": "code",
   "execution_count": 0,
   "metadata": {
    "application/vnd.databricks.v1+cell": {
     "cellMetadata": {
      "byteLimit": 2048000,
      "rowLimit": 10000
     },
     "inputWidgets": {},
     "nuid": "f5b09181-5251-41e7-8385-e433afbc95ef",
     "showTitle": false,
     "tableResultSettingsMap": {},
     "title": ""
    }
   },
   "outputs": [],
   "source": [
    "action = spark.read.format(\"csv\").load(\"/mnt/project-movies-data/raw data/action.csv\")"
   ]
  },
  {
   "cell_type": "code",
   "execution_count": 0,
   "metadata": {
    "application/vnd.databricks.v1+cell": {
     "cellMetadata": {
      "byteLimit": 2048000,
      "rowLimit": 10000
     },
     "inputWidgets": {},
     "nuid": "bd173b3b-16d9-431b-b46d-4fcc4724f1ad",
     "showTitle": false,
     "tableResultSettingsMap": {},
     "title": ""
    }
   },
   "outputs": [],
   "source": [
    "action.show()"
   ]
  },
  {
   "cell_type": "code",
   "execution_count": 0,
   "metadata": {
    "application/vnd.databricks.v1+cell": {
     "cellMetadata": {
      "byteLimit": 2048000,
      "rowLimit": 10000
     },
     "inputWidgets": {},
     "nuid": "66d6fa71-c9c7-443e-a301-f863296db0ab",
     "showTitle": false,
     "tableResultSettingsMap": {},
     "title": ""
    }
   },
   "outputs": [],
   "source": [
    "action = spark.read.format(\"csv\").option(\"header\", \"true\").load(\"/mnt/project-movies-data/raw data/action.csv\")"
   ]
  },
  {
   "cell_type": "code",
   "execution_count": 0,
   "metadata": {
    "application/vnd.databricks.v1+cell": {
     "cellMetadata": {
      "byteLimit": 2048000,
      "rowLimit": 10000
     },
     "inputWidgets": {},
     "nuid": "f04d3cf7-822c-4e7e-bde6-cf0e1524e465",
     "showTitle": false,
     "tableResultSettingsMap": {},
     "title": ""
    }
   },
   "outputs": [],
   "source": [
    "action = spark.read.format(\"csv\").option(\"header\", \"true\").load(\"/mnt/project-movies-data/raw data/action.csv\")\n",
    "adventure = spark.read.format(\"csv\").option(\"header\", \"true\").load(\"/mnt/project-movies-data/raw data/adventure.csv\")\n",
    "thriller = spark.read.format(\"csv\").option(\"header\", \"true\").load(\"/mnt/project-movies-data/raw data/thriller.csv\")\n",
    "horror = spark.read.format(\"csv\").option(\"header\", \"true\").load(\"/mnt/project-movies-data/raw data/horror.csv\")\n",
    "scifi = spark.read.format(\"csv\").option(\"header\", \"true\").load(\"/mnt/project-movies-data/raw data/scifi.csv\")"
   ]
  },
  {
   "cell_type": "code",
   "execution_count": 0,
   "metadata": {
    "application/vnd.databricks.v1+cell": {
     "cellMetadata": {
      "byteLimit": 2048000,
      "rowLimit": 10000
     },
     "inputWidgets": {},
     "nuid": "e040bba5-de37-4cdb-a6fe-debb6bf01311",
     "showTitle": false,
     "tableResultSettingsMap": {},
     "title": ""
    }
   },
   "outputs": [],
   "source": [
    "action.printSchema()"
   ]
  },
  {
   "cell_type": "code",
   "execution_count": 0,
   "metadata": {
    "application/vnd.databricks.v1+cell": {
     "cellMetadata": {
      "byteLimit": 2048000,
      "rowLimit": 10000
     },
     "inputWidgets": {},
     "nuid": "2f0f8dc9-05ee-4e6b-9334-94ec25ff6b32",
     "showTitle": false,
     "tableResultSettingsMap": {},
     "title": ""
    }
   },
   "outputs": [],
   "source": [
    "action = action.withColumn(\"rating\", col(\"rating\").cast(IntegerType()))"
   ]
  },
  {
   "cell_type": "code",
   "execution_count": 0,
   "metadata": {
    "application/vnd.databricks.v1+cell": {
     "cellMetadata": {
      "byteLimit": 2048000,
      "rowLimit": 10000
     },
     "inputWidgets": {},
     "nuid": "86ff51f6-2972-4b60-be86-277fbee77ac8",
     "showTitle": false,
     "tableResultSettingsMap": {},
     "title": ""
    }
   },
   "outputs": [],
   "source": [
    "action.printSchema()"
   ]
  },
  {
   "cell_type": "code",
   "execution_count": 0,
   "metadata": {
    "application/vnd.databricks.v1+cell": {
     "cellMetadata": {
      "byteLimit": 2048000,
      "rowLimit": 10000
     },
     "inputWidgets": {},
     "nuid": "35d2f464-808c-45fc-8d77-1548ca62c67f",
     "showTitle": false,
     "tableResultSettingsMap": {},
     "title": ""
    }
   },
   "outputs": [],
   "source": [
    "action_movies_rated_highest = action.orderBy(\"rating\", ascending = False).limit(20).show()"
   ]
  },
  {
   "cell_type": "code",
   "execution_count": 0,
   "metadata": {
    "application/vnd.databricks.v1+cell": {
     "cellMetadata": {
      "byteLimit": 2048000,
      "rowLimit": 10000
     },
     "inputWidgets": {},
     "nuid": "068f5af4-e013-4bc1-a3df-7c96a6be926d",
     "showTitle": false,
     "tableResultSettingsMap": {},
     "title": ""
    }
   },
   "outputs": [],
   "source": [
    "action_movies_rated_highest = action.orderBy(\"rating\", ascending = False).select(\"movie_name\", \"genre\", \"rating\").limit(15).show()"
   ]
  },
  {
   "cell_type": "code",
   "execution_count": 0,
   "metadata": {
    "application/vnd.databricks.v1+cell": {
     "cellMetadata": {
      "byteLimit": 2048000,
      "rowLimit": 10000
     },
     "inputWidgets": {},
     "nuid": "154d81dc-b950-4481-971c-8c035dec2d9c",
     "showTitle": false,
     "tableResultSettingsMap": {},
     "title": ""
    }
   },
   "outputs": [],
   "source": [
    "comedy_movies = action.filter(col(\"genre\").contains(\"Comedy\")).limit(15).show()"
   ]
  },
  {
   "cell_type": "code",
   "execution_count": 0,
   "metadata": {
    "application/vnd.databricks.v1+cell": {
     "cellMetadata": {
      "byteLimit": 2048000,
      "rowLimit": 10000
     },
     "inputWidgets": {},
     "nuid": "31133e6d-a1f5-4b72-aa28-e557bd22870b",
     "showTitle": false,
     "tableResultSettingsMap": {},
     "title": ""
    }
   },
   "outputs": [],
   "source": [
    "action.write.option(\"header\", 'True').csv(\"/mnt/project-movies-data/transform data/action\")"
   ]
  },
  {
   "cell_type": "code",
   "execution_count": 0,
   "metadata": {
    "application/vnd.databricks.v1+cell": {
     "cellMetadata": {
      "byteLimit": 2048000,
      "rowLimit": 10000
     },
     "inputWidgets": {},
     "nuid": "dc8f96ce-c3be-46f7-9740-023a1514eeaf",
     "showTitle": false,
     "tableResultSettingsMap": {},
     "title": ""
    }
   },
   "outputs": [],
   "source": [
    "action.printSchema()\n",
    "action = action.withColumn(\"year\", col(\"year\").cast(DateType()))"
   ]
  },
  {
   "cell_type": "code",
   "execution_count": 0,
   "metadata": {
    "application/vnd.databricks.v1+cell": {
     "cellMetadata": {
      "byteLimit": 2048000,
      "rowLimit": 10000
     },
     "inputWidgets": {},
     "nuid": "7b6388e4-a7b0-4feb-82b4-02fed5adddae",
     "showTitle": false,
     "tableResultSettingsMap": {},
     "title": ""
    }
   },
   "outputs": [],
   "source": [
    "action = action.withColumn(\"year\", date_format(col(\"year\"), \"yyyy\").cast(IntegerType()))\n",
    "\n",
    "action.show()"
   ]
  },
  {
   "cell_type": "code",
   "execution_count": 0,
   "metadata": {
    "application/vnd.databricks.v1+cell": {
     "cellMetadata": {
      "byteLimit": 2048000,
      "rowLimit": 10000
     },
     "inputWidgets": {},
     "nuid": "74e9aa95-3958-4827-88e9-4b391e11d649",
     "showTitle": false,
     "tableResultSettingsMap": {},
     "title": ""
    }
   },
   "outputs": [],
   "source": [
    "action_movies_rated_highest = action.orderBy(\"rating\", ascending=False).select(\"movie_name\", \"genre\", \"rating\").limit(15).show()"
   ]
  },
  {
   "cell_type": "code",
   "execution_count": 0,
   "metadata": {
    "application/vnd.databricks.v1+cell": {
     "cellMetadata": {
      "byteLimit": 2048000,
      "rowLimit": 10000
     },
     "inputWidgets": {},
     "nuid": "0ec25d84-d335-4602-8a79-0fabbf2657e5",
     "showTitle": false,
     "tableResultSettingsMap": {},
     "title": ""
    }
   },
   "outputs": [],
   "source": [
    "adventure = adventure.withColumn(\"rating\", col(\"rating\").cast(IntegerType()))\n",
    "adventure_movies_rated_highest = adventure.orderBy(\"rating\", ascending = False).select(\"movie_name\", \"genre\", \"rating\").limit(20).show()"
   ]
  },
  {
   "cell_type": "code",
   "execution_count": 0,
   "metadata": {
    "application/vnd.databricks.v1+cell": {
     "cellMetadata": {
      "byteLimit": 2048000,
      "rowLimit": 10000
     },
     "inputWidgets": {},
     "nuid": "f81b68fe-1962-4d96-9b62-da513c11e9f0",
     "showTitle": false,
     "tableResultSettingsMap": {},
     "title": ""
    }
   },
   "outputs": [],
   "source": [
    "adventure.write.option(\"header\", 'True').csv(\"/mnt/project-movies-data/transform data/adventure_top_20\")"
   ]
  },
  {
   "cell_type": "code",
   "execution_count": 0,
   "metadata": {
    "application/vnd.databricks.v1+cell": {
     "cellMetadata": {
      "byteLimit": 2048000,
      "rowLimit": 10000
     },
     "inputWidgets": {},
     "nuid": "1ec9e53d-705e-4d5b-a4f0-25cbe09897af",
     "showTitle": false,
     "tableResultSettingsMap": {},
     "title": ""
    }
   },
   "outputs": [],
   "source": [
    "thriller = thriller.withColumn(\"rating\", col(\"rating\").cast(IntegerType()))\n",
    "thriller_movies_rated_highest = thriller.orderBy(\"rating\", ascending = False).select(\"movie_name\", \"genre\", \"rating\").limit(20).show()\n",
    "thriller.write.option(\"header\", 'True').csv(\"/mnt/project-movies-data/transform data/thriller_top_20\")\n",
    "\n",
    "horror = horror.withColumn(\"rating\", col(\"rating\").cast(IntegerType()))\n",
    "horror_movies_rated_highest = horror.orderBy(\"rating\", ascending = False).select(\"movie_name\", \"genre\", \"rating\").limit(20).show()\n",
    "horror.write.option(\"header\", 'True').csv(\"/mnt/project-movies-data/transform data/horror_top_20\")"
   ]
  },
  {
   "cell_type": "code",
   "execution_count": 0,
   "metadata": {
    "application/vnd.databricks.v1+cell": {
     "cellMetadata": {
      "byteLimit": 2048000,
      "rowLimit": 10000
     },
     "inputWidgets": {},
     "nuid": "9e116ed4-1d3f-495d-88f3-8d97096e6124",
     "showTitle": false,
     "tableResultSettingsMap": {},
     "title": ""
    }
   },
   "outputs": [],
   "source": [
    "scifi = scifi.withColumn(\"year\", date_format(col(\"year\"), \"yyyy\").cast(IntegerType()))\n",
    "\n",
    "scifi.show()"
   ]
  },
  {
   "cell_type": "code",
   "execution_count": 0,
   "metadata": {
    "application/vnd.databricks.v1+cell": {
     "cellMetadata": {
      "byteLimit": 2048000,
      "rowLimit": 10000
     },
     "inputWidgets": {},
     "nuid": "99cdce1e-2403-4fb1-8461-c41e1ea84215",
     "showTitle": false,
     "tableResultSettingsMap": {},
     "title": ""
    }
   },
   "outputs": [],
   "source": [
    "scifi_newest_movies = scifi.orderBy(\"year\", ascending = False).select(\"movie_name\", \"year\", \"rating\").limit(20).show()"
   ]
  },
  {
   "cell_type": "code",
   "execution_count": 0,
   "metadata": {
    "application/vnd.databricks.v1+cell": {
     "cellMetadata": {
      "byteLimit": 2048000,
      "rowLimit": 10000
     },
     "inputWidgets": {},
     "nuid": "cff0b2e8-b54c-46ca-aec1-66e913f3c6fc",
     "showTitle": false,
     "tableResultSettingsMap": {},
     "title": ""
    }
   },
   "outputs": [],
   "source": [
    "scifi.write.option(\"header\", 'True').csv(\"/mnt/project-movies-data/transform data/scifi_newest_20\")"
   ]
  },
  {
   "cell_type": "markdown",
   "metadata": {
    "application/vnd.databricks.v1+cell": {
     "cellMetadata": {},
     "inputWidgets": {},
     "nuid": "877e9fca-1f35-41db-9d69-e4208299f7ad",
     "showTitle": false,
     "tableResultSettingsMap": {},
     "title": ""
    }
   },
   "source": [
    "###Part 3"
   ]
  },
  {
   "cell_type": "markdown",
   "metadata": {
    "application/vnd.databricks.v1+cell": {
     "cellMetadata": {},
     "inputWidgets": {},
     "nuid": "4b8fa250-a2d6-4262-8a86-59613d16ec0d",
     "showTitle": false,
     "tableResultSettingsMap": {},
     "title": ""
    }
   },
   "source": [
    "##Spark DataFrames in Databricks are used by data engineers and analysts, but in slightly different ways! \n",
    "\n",
    "So think of a Spark DataFrame in Databricks like a fancy pansy spreadsheet. It organises data in rows and columns (like Excel), but it can handle massive datasets and is brilliant for your analysis. \n",
    "\n",
    "Spark DataFrames are used for a wide range of tasks involving distributed data processing and analysis on large datasets. Here are some of their key applications: \n",
    "\n",
    "###Data wrangling and transformation: \n",
    "\n",
    "- **Loading data from various sources:** DataFrames can read data from diverse sources like files (CSV, JSON, Parquet), databases, and existing Spark datasets. \n",
    "\n",
    "- **Cleaning and filtering data:** You can manipulate data using DataFrame operations like filtering rows based on conditions, handling missing values, and performing aggregations. \n",
    "\n",
    "- **Joining and merging data:** DataFrames allow you to join multiple datasets based on shared columns, creating more informative datasets for analysis. \n",
    "\n",
    "###Data analysis and exploration: \n",
    "\n",
    "- **Performing SQL-like queries:** You can use SQL syntax to query and analyse data within DataFrames, good if you are familiar with relational databases. \n",
    "\n",
    "- **Statistical analysis and machine learning:** DataFrames provide functions for calculating statistics, performing regressions, and building machine learning models on large datasets. \n",
    "\n",
    "- **Data visualisation:** DataFrames can be easily integrated with data visualization libraries like Matplotlib and ggplot2, enabling you to create insightful charts and graphs for exploring data trends and patterns. "
   ]
  },
  {
   "cell_type": "markdown",
   "metadata": {
    "application/vnd.databricks.v1+cell": {
     "cellMetadata": {},
     "inputWidgets": {},
     "nuid": "55a39d38-0d88-4d3a-9942-2d6af7702f87",
     "showTitle": false,
     "tableResultSettingsMap": {},
     "title": ""
    }
   },
   "source": [
    "##More Queries in your Dataframe & Using Plotly "
   ]
  },
  {
   "cell_type": "code",
   "execution_count": 0,
   "metadata": {
    "application/vnd.databricks.v1+cell": {
     "cellMetadata": {
      "byteLimit": 2048000,
      "rowLimit": 10000
     },
     "inputWidgets": {},
     "nuid": "9664381b-df2e-4cf8-a5c1-d0aa407a5d64",
     "showTitle": false,
     "tableResultSettingsMap": {},
     "title": ""
    }
   },
   "outputs": [],
   "source": [
    "# Read the CSV file as a Spark DataFrame \n",
    "\n",
    "action = spark.read.format(\"csv\") \\\n",
    "    .option(\"header\", \"true\") \\\n",
    "    .option(\"inferSchema\", \"true\") \\\n",
    "    .load(\"/mnt/project-movies-data/raw data/action.csv\") \\\n",
    "    .createOrReplaceTempView(\"temp_table\") \n",
    "\n",
    "# Create a Spark table from the temporary view \n",
    "spark.sql(\"CREATE TABLE IF NOT EXISTS actiontb USING parquet AS SELECT * FROM temp_table\") \n",
    "\n",
    "# Query for movies with rating = 8 \n",
    "query_result = spark.sql(\"SELECT year, movie_name, rating FROM actiontb WHERE rating = 8\") \n",
    "\n",
    "# Import Plotly Express for visualisation \n",
    "import plotly.express as px \n",
    "\n",
    "# Create a Pandas DataFrame for plotting \n",
    "pandas_df = query_result.toPandas() \n",
    "\n",
    "# Group by year, count movies, and create a DataFrame with \"year\" and \"count\" columns \n",
    "grouped_df = pandas_df.groupby(\"year\").size().to_frame(name=\"count\").reset_index() \n",
    "\n",
    "# Create the bar chart using Plotly (with color customisation) \n",
    "fig = px.bar(grouped_df, x=\"year\", y=\"count\", color=\"count\", color_continuous_scale=\"Viridis\") \n",
    "\n",
    "# Set plot size \n",
    "fig.update_layout(width=900, height=600) \n",
    "\n",
    "# Display the plot \n",
    "fig.show()"
   ]
  }
 ],
 "metadata": {
  "application/vnd.databricks.v1+notebook": {
   "computePreferences": null,
   "dashboards": [],
   "environmentMetadata": {
    "base_environment": "",
    "environment_version": "2"
   },
   "inputWidgetPreferences": null,
   "language": "python",
   "notebookMetadata": {
    "mostRecentlyExecutedCommandWithImplicitDF": {
     "commandId": 544092635402785,
     "dataframes": [
      "_sqldf"
     ]
    },
    "pythonIndentUnit": 4
   },
   "notebookName": "Movie Data 12-03-2025",
   "widgets": {}
  },
  "language_info": {
   "name": "python"
  }
 },
 "nbformat": 4,
 "nbformat_minor": 0
}
